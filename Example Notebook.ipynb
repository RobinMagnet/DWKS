{
 "cells": [
  {
   "cell_type": "code",
   "execution_count": null,
   "id": "e347373a",
   "metadata": {},
   "outputs": [],
   "source": [
    "import copy\n",
    "from tqdm.notebook import tqdm\n",
    "\n",
    "import numpy as np\n",
    "\n",
    "import sys, os\n",
    "sys.path.append('./pyFM/')\n",
    "sys.path.append('./utils/')\n",
    "\n",
    "\n",
    "import utils.baseline as baseline\n",
    "\n",
    "import pyFM\n",
    "from pyFM.mesh import TriMesh\n",
    "import pyFM.spectral as spectral\n",
    "import pyFM.eval\n",
    "from functional_match import MultiShapeDifferenceMatching"
   ]
  },
  {
   "cell_type": "code",
   "execution_count": null,
   "id": "32d067af",
   "metadata": {},
   "outputs": [],
   "source": [
    "sys.path.append('./VisualizationTools/')\n",
    "import VisualizationTools as plu"
   ]
  },
  {
   "cell_type": "markdown",
   "id": "144ad01d",
   "metadata": {},
   "source": [
    "# 1. Load collection and ground truth correspondences "
   ]
  },
  {
   "cell_type": "code",
   "execution_count": null,
   "id": "f9b98392",
   "metadata": {},
   "outputs": [],
   "source": [
    "coll1 = [TriMesh(f'data/cats_lions/cat-{i:02d}.off').process() for i in tqdm(range(10))]\n",
    "coll2 = [TriMesh(f'data/cats_lions/lion_cut1-{i:02d}.off').process() for i in tqdm(range(10))]\n"
   ]
  },
  {
   "cell_type": "code",
   "execution_count": null,
   "id": "1f826f2a",
   "metadata": {},
   "outputs": [],
   "source": [
    "maps1 = [np.arange(coll1[0].n_vertices) for _ in range(10)]\n",
    "maps2 = [np.arange(coll2[0].n_vertices) for _ in range(10)]"
   ]
  },
  {
   "cell_type": "code",
   "execution_count": null,
   "id": "96d9c099",
   "metadata": {},
   "outputs": [],
   "source": [
    "meshA = copy.deepcopy(coll1[0])\n",
    "meshC = copy.deepcopy(coll2[0])\n",
    "\n",
    "part2full = np.loadtxt(\"./data/cats_lions/lion_cut1_to_full\", dtype=int)\n",
    "full2full = np.loadtxt(\"./data/cats_lions/lion2cat\", dtype=int)\n",
    "    \n",
    "gt_p2p = full2full[part2full]\n",
    "\n",
    "\n",
    "s1_source = meshA.get_geodesic(force_compute=True, verbose=True)\n",
    "sqrt_area = np.sqrt(meshA.area)\n",
    "\n",
    "# def acc_eval(p2p, return_all=False):\n",
    "#     if not return_all:\n",
    "#         return pyFM.eval.accuracy(p2p, gt_p2p, s1_source, return_all=return_all)/sqrt_area\n",
    "#     else:\n",
    "#         acc, acc_dists = pyFM.eval.accuracy(p2p,gt_p2p,s1_source,return_all=return_all)\n",
    "#         return acc/sqrt_area, acc_dists/sqrt_area"
   ]
  },
  {
   "cell_type": "markdown",
   "id": "f5722ee2",
   "metadata": {},
   "source": [
    "# 2. Matching using global embeddings"
   ]
  },
  {
   "cell_type": "markdown",
   "id": "545350b0",
   "metadata": {},
   "source": [
    "We here show the result of the main baseline on the collection.\n",
    "The method solves\n",
    "\n",
    "\\begin{equation}\n",
    "\\min_{C\\neq0} \\sum_i \\left( \\|C V_i^1 - V_i^2 C\\|^2 + \\|C R_i^1 - R_i^2 C\\|^2\\right) + \\alpha \\|C\\Delta^1- \\Delta^2 C\\|^2\n",
    "\\end{equation}\n",
    "\n",
    "where $R$ and $V$ are the conformal and area shape difference operators, the index shows which deformation they embed and the exponent from which collections they belong.\n",
    "\n",
    "This problem is presented in both\n",
    "\n",
    "[1] Aharon Cohen and Mirela Ben-Chen. Robust Shape Collec-tion Matching and Correspondence from Shape Differences.Computer Graphics Forum, 39(2):555–568, May 2020\n",
    "\n",
    "[2] Nitzan Shapira and Mirela Ben-Chen. Cross-Collection Map\n",
    "Inference by Intrinsic Alignment of Shape Spaces. Computer\n",
    "Graphics Forum, 33(5):281–290, Aug. 2014"
   ]
  },
  {
   "cell_type": "code",
   "execution_count": null,
   "id": "23e8a880",
   "metadata": {},
   "outputs": [],
   "source": [
    "# Compute shape difference operators for each collection\n",
    "SD_AB_list = baseline.get_SD_list(coll1, p2p=maps1, k1=50)\n",
    "SD_CD_list = baseline.get_SD_list(coll2, p2p=maps2, k1=50)"
   ]
  },
  {
   "cell_type": "code",
   "execution_count": null,
   "id": "fb2b63ab",
   "metadata": {},
   "outputs": [],
   "source": [
    "# You can play around the parameters to see. While the method works well for complete shape it can heavily fail\n",
    "# in the presence of partiality\n",
    "coll_match_options = {\n",
    "    'alpha': 0.,\n",
    "    'remove_area': False,\n",
    "    'remove_conformal': False,\n",
    "}"
   ]
  },
  {
   "cell_type": "code",
   "execution_count": null,
   "id": "67620e1e",
   "metadata": {},
   "outputs": [],
   "source": [
    "FM_comm, p2p_comm = baseline.solve_collection(SD_AB_list[1:], SD_CD_list[1:], meshA, meshC, **coll_match_options)"
   ]
  },
  {
   "cell_type": "code",
   "execution_count": null,
   "id": "ee6c7b67",
   "metadata": {},
   "outputs": [],
   "source": [
    "acc_comm = pyFM.eval.accuracy(p2p_comm, gt_p2p, s1_source, sqrt_area=sqrt_area)\n",
    "print(f'Baseline accuracy : {1e3*acc_comm:.3f}')"
   ]
  },
  {
   "cell_type": "code",
   "execution_count": null,
   "id": "4c42e66f",
   "metadata": {},
   "outputs": [],
   "source": [
    "plu.plot_p2p(meshA, meshC, p2p_comm)"
   ]
  },
  {
   "cell_type": "markdown",
   "id": "e14ef040",
   "metadata": {},
   "source": [
    "# 3. DWKS "
   ]
  },
  {
   "cell_type": "markdown",
   "id": "5853619d",
   "metadata": {},
   "source": [
    "We solve the problem\n",
    "\n",
    "\\begin{equation}\n",
    "\\min_C E_d(C) + \\alpha E_{dc}(C) + \\beta E_{sd}(C)\n",
    "\\end{equation}\n",
    "\n",
    "With $E_d$ the descriptor preservation term (using DWKS), $E_{dc}$ the descriptor commutativity term, $E_{sd}$ the commutativity with sahpe difference operators (like on the baseline).\n",
    "\n",
    "Additionnaly, we give the opportunity to add a laplacian commutativity term (similarly to the baseline) as well as an orientation preserving term."
   ]
  },
  {
   "cell_type": "code",
   "execution_count": null,
   "id": "1f7a0059",
   "metadata": {},
   "outputs": [],
   "source": [
    "process_options = {\n",
    "    'n_ev': (50,50),\n",
    "    'elims': (-np.log(3),np.log(3)), \n",
    "    'n_descr': 200,\n",
    "    'scale': 1.4,\n",
    "    'remove_area': True,\n",
    "    'remove_conformal': False, \n",
    "    'SD_type': 'spectral',\n",
    "    'mapping': list(zip(maps1, maps2)),\n",
    "    'subsample_step': 2,\n",
    "    'trim_values': True,\n",
    "    'trim_scale': 2,\n",
    "    'verbose': True\n",
    "}"
   ]
  },
  {
   "cell_type": "code",
   "execution_count": null,
   "id": "2ab910c5",
   "metadata": {
    "scrolled": true
   },
   "outputs": [],
   "source": [
    "model = MultiShapeDifferenceMatching(meshA, meshC)\n",
    "model.preprocess(coll1[1:], coll2[1:], **process_options)"
   ]
  },
  {
   "cell_type": "code",
   "execution_count": null,
   "id": "c1e59e7c",
   "metadata": {},
   "outputs": [],
   "source": [
    "fit_params = {\n",
    "    'descr_mu': 1e0,  # Descriptor preservation\n",
    "    'lap_mu': 0,  # Laplacian commutativity\n",
    "    'descr_comm_mu': 1e1,  # Descriptor commutativity\n",
    "    'SD_comm_mu': 1e-4,  # Shape Difference Commutativity\n",
    "    'orient_mu': 0,  # Orientation preserving term\n",
    "    'optinit': 'random',\n",
    "    'verbose': True\n",
    "}"
   ]
  },
  {
   "cell_type": "code",
   "execution_count": null,
   "id": "3ce56e7d",
   "metadata": {},
   "outputs": [],
   "source": [
    "model.fit(**fit_params)"
   ]
  },
  {
   "cell_type": "code",
   "execution_count": null,
   "id": "e18bd3da",
   "metadata": {},
   "outputs": [],
   "source": [
    "p2p_fit = model.p2p\n",
    "acc_fit = pyFM.eval.accuracy(p2p_fit, gt_p2p, s1_source, sqrt_area=sqrt_area)\n",
    "\n",
    "print(f'Fitting DWKS : {1e3*acc_eval(p2p_fit):.3f}')"
   ]
  },
  {
   "cell_type": "code",
   "execution_count": null,
   "id": "59aec7ea",
   "metadata": {},
   "outputs": [],
   "source": [
    "plu.plot_p2p(meshA, meshC, p2p_fit, pretty=False)"
   ]
  },
  {
   "cell_type": "markdown",
   "id": "450eb2f7",
   "metadata": {},
   "source": [
    "One can see that the maps works kind of well (disambiguation of right and left). However, there remain some noise on the legs and around the cut especially.\n",
    "Part of the noise can be removed  by ignoring worse matched vertices (compared with embedding distances) and projecting the map in low dimension. Be careful with partiality and dimension of the functional map"
   ]
  },
  {
   "cell_type": "code",
   "execution_count": null,
   "id": "ad01ae67",
   "metadata": {},
   "outputs": [],
   "source": [
    "ignore_ratio = .2\n",
    "# Points to keep\n",
    "dists, p2p = pyFM.spectral.knn_query(model.descr1, model.descr2, return_distance=True, n_jobs=-1)\n",
    "subsample_C = np.nonzero(dists<=np.quantile(dists, 1-ignore_ratio))[0]\n",
    "subsample_A = p2p_fit[subsample_C]"
   ]
  },
  {
   "cell_type": "code",
   "execution_count": null,
   "id": "59b44300",
   "metadata": {},
   "outputs": [],
   "source": [
    "dim_proj = (15,5)"
   ]
  },
  {
   "cell_type": "code",
   "execution_count": null,
   "id": "8d1935b0",
   "metadata": {},
   "outputs": [],
   "source": [
    "FM_ref = spectral.mesh_p2p_to_FM(np.arange(len(subsample_C)), meshA, meshC, dims=dim_proj, subsample=(subsample_A, subsample_C))\n",
    "p2p_ref = spectral.FM_to_p2p(FM_ref, meshA.eigenvectors, meshC.eigenvectors)"
   ]
  },
  {
   "cell_type": "code",
   "execution_count": null,
   "id": "02289817",
   "metadata": {},
   "outputs": [],
   "source": [
    "plu.plot_p2p(meshA, meshC, p2p_ref)"
   ]
  },
  {
   "cell_type": "markdown",
   "id": "dd8294df",
   "metadata": {},
   "source": [
    "This looks like a good starting point for a refinement algorithm. Sadly there is no good refinement algorithm tailored for partial shapes so one has to play around with parameters of isometric refinement algorithm."
   ]
  }
 ],
 "metadata": {
  "kernelspec": {
   "display_name": "Python 3",
   "language": "python",
   "name": "python3"
  },
  "language_info": {
   "codemirror_mode": {
    "name": "ipython",
    "version": 3
   },
   "file_extension": ".py",
   "mimetype": "text/x-python",
   "name": "python",
   "nbconvert_exporter": "python",
   "pygments_lexer": "ipython3",
   "version": "3.6.13"
  }
 },
 "nbformat": 4,
 "nbformat_minor": 5
}
